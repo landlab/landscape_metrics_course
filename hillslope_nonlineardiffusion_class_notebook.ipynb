{
 "cells": [
  {
   "cell_type": "markdown",
   "metadata": {},
   "source": [
    "<a href=\"http://landlab.github.io\"><img style=\"float: left\" src=\"../../../landlab_header.png\"></a>"
   ]
  },
  {
   "cell_type": "markdown",
   "metadata": {},
   "source": [
    "# Nonlinear diffusion exercise with Landlab\n",
    "\n",
    "This notebook was created by Nicole Gasparini at Tulane University."
   ]
  },
  {
   "cell_type": "markdown",
   "metadata": {},
   "source": [
    "<hr>\n",
    "For tutorials on learning Landlab, click here: <a href=\"https://github.com/landlab/landlab/wiki/Tutorials\">https://github.com/landlab/landlab/wiki/Tutorials</a>\n",
    "<hr>\n"
   ]
  },
  {
   "cell_type": "markdown",
   "metadata": {},
   "source": [
    "**What is this notebook?**\n",
    "\n",
    "This notebook illustrates the evolution of landforms dominated by processes that result in nonlinear diffusion of sediment. In other words, the downhill flow of soil is nonlinearly proportional to the (downhill) gradient of the land surface.\n",
    "\n",
    "The notebook first illustrates a simple example of an evolving hillslope. We then provide a number of exercises for students to do on their own. This set of exercises is recomended for students in a quantitative geomorphology class, who have been introduced to a nonlinear diffusion equation in class. \n",
    "\n",
    "**Application of linear diffusion transport law:**\n",
    "\n",
    "In settings where slopes are steep and relatively rapid sediment transport occurs as slope steepen (think slope failure, landsliding), a transport law similar to the following may apply:\n",
    "\\begin{equation}\n",
    "q_s = -D \\bigg( 1 + \\Big( \\frac{S}{S_c} \\Big)^2 + \\Big( \\frac{S}{S_c} \\Big)^4 + ... + \\Big( \\frac{S}{S_c} \\Big)^{2(n-1)} \\bigg)\n",
    "\\end{equation}\n",
    "where ${q}_s$ is the transport rate with dimensions of L$^2$T$^{-1}$;  $D$ is a transport coefficient with dimensions of L$^2$T$^{-1}$; $S$ is slope ($-\\nabla z$, where $z$ is elevation, and it is assumed that distance is increasing downslope); $S_c$ is the critical slope; and $n$ is the number of terms. This equation is Ganti et al., (2012) https://dx.doi.org/10.1029/2011jf002181. (The default behavior of the Landlab component will be to use two terms in the equation above. That is what is explored in this notebook.)\n",
    " \n",
    "Changes in elevation, or erosion, are calculated from conservation of mass:\n",
    "\\begin{equation}\n",
    "\\frac{dz}{dt} = U-\\nabla q_s\n",
    "\\end{equation}\n",
    "where $U$ is the rock uplift rate, with dimensions LT$^{-1}$.\n",
    "\n",
    "**How will we explore this with Landlab?**\n",
    "\n",
    "We will use the Landlab component *TaylorNonLinearDiffuser*, which implements the equations above, to explore how hillslopes evolve when nonlinear diffusion describes hillslope sediment transport. We will explore the steady state form of the landscape and sensitivity to parameters. Here steady state is defined as erosion rate equal to rock uplift rate.\n",
    "\n",
    "The first example illustrates how to set-up the model and evolve a hillslope to steady state, along with how to plot some variables of interest. For more information on hillslope sediment transport laws, this paper is a great overview:\n",
    "\n",
    "Roering, Joshua J. (2008) \"How well can hillslope evolution models “explain” topography? Simulating soil transport and production with high-resolution topographic data.\" Geological Society of America Bulletin.\n",
    "\n",
    "Based on the first example, you are asked to first think about what will happen as you change a parameter, and then you explore this numerically by changing the code.\n",
    "\n",
    "Start at the top by reading each block of text and sequentially running each code block (shift - enter OR got to the _Cell_ pulldown menu at the top and choose _Run Cells_). \n",
    "\n",
    "Remember that you can always go to the _Kernel_ pulldown menu at the top and choose _Restart & Clear Output_ or _Restart & Run All_ if you change things and want to start afresh. If you just change one code block and rerun only that code block, only the parts of the code in that code block will be updated. (E.g. if you change parameters but don't reset the code blocks that initialize run time or topography, then these values will not be reset.) "
   ]
  },
  {
   "cell_type": "markdown",
   "metadata": {},
   "source": [
    "**Now on to the code example**\n",
    "\n",
    "Import statements. You should not need to edit this."
   ]
  },
  {
   "cell_type": "code",
   "execution_count": null,
   "metadata": {},
   "outputs": [],
   "source": [
    "# below is to make plots show up in the notebook\n",
    "%matplotlib inline"
   ]
  },
  {
   "cell_type": "code",
   "execution_count": null,
   "metadata": {},
   "outputs": [],
   "source": [
    "# Code Block 1\n",
    "\n",
    "import numpy as np\n",
    "from matplotlib.pyplot import figure, legend, plot, show, title, xlabel, ylabel, ylim\n",
    "\n",
    "from landlab.plot.imshow import imshow_grid"
   ]
  },
  {
   "cell_type": "markdown",
   "metadata": {},
   "source": [
    "We will create a grid with 41 rows and 5 columns, and dx is 5 m (a long, narrow, hillslope). The initial elevation is 0 at all nodes.\n",
    "\n",
    "We set-up boundary conditions so that material can leave the hillslope at the two short ends."
   ]
  },
  {
   "cell_type": "code",
   "execution_count": null,
   "metadata": {},
   "outputs": [],
   "source": [
    "# Code Block 2\n",
    "\n",
    "# setup grid\n",
    "from landlab import RasterModelGrid\n",
    "\n",
    "mg = RasterModelGrid((41, 5), 5.0)\n",
    "z_vals = mg.add_zeros(\"topographic__elevation\", at=\"node\")\n",
    "\n",
    "# initialize some values for plotting\n",
    "ycoord_rast = mg.node_vector_to_raster(mg.node_y)\n",
    "ys_grid = ycoord_rast[:, 2]\n",
    "\n",
    "# set boundary condition.\n",
    "mg.set_closed_boundaries_at_grid_edges(True, False, True, False)"
   ]
  },
  {
   "cell_type": "markdown",
   "metadata": {},
   "source": [
    "Now we import and initialize the *LinearDiffuser* component. "
   ]
  },
  {
   "cell_type": "code",
   "execution_count": null,
   "metadata": {},
   "outputs": [],
   "source": [
    "# Code Block 3\n",
    "\n",
    "from landlab.components import TaylorNonLinearDiffuser\n",
    "\n",
    "D = 0.01  # initial value of 0.01 m^2/yr\n",
    "Sc = 0.5 # critical slope value, units of m/m\n",
    "nonlin_diffuse = TaylorNonLinearDiffuser(mg, linear_diffusivity=D, slope_crit=Sc, dynamic_dt=True)"
   ]
  },
  {
   "cell_type": "markdown",
   "metadata": {},
   "source": [
    "We now initialize a few more parameters."
   ]
  },
  {
   "cell_type": "code",
   "execution_count": null,
   "metadata": {},
   "outputs": [],
   "source": [
    "# Code Block 4\n",
    "\n",
    "# Uniform rate of rock uplift\n",
    "uplift_rate = 0.0001  # meters/year, originally set to 0.0001\n",
    "\n",
    "# Total time in years that the model will run for.\n",
    "runtime = 1000000  # years, originally set to 1,000,000\n",
    "\n",
    "# Stability criteria for timestep dt.  Coefficient can be changed\n",
    "# depending on our tolerance for stability vs tolerance for run time.\n",
    "dt = 0.5 * mg.dx * mg.dx / D\n",
    "\n",
    "# nt is number of time steps\n",
    "nt = int(runtime // dt)\n",
    "\n",
    "# Below is to keep track of time for labeling plots\n",
    "time_counter = 0\n",
    "\n",
    "# length of uplift over a single time step, meters\n",
    "uplift_per_step = uplift_rate * dt"
   ]
  },
  {
   "cell_type": "markdown",
   "metadata": {},
   "source": [
    "Now we figure out the analytical solution for the elevation of the steady-state profile using *linear diffusion*."
   ]
  },
  {
   "cell_type": "code",
   "execution_count": null,
   "metadata": {},
   "outputs": [],
   "source": [
    "# Code Block 5\n",
    "\n",
    "ys = np.arange(mg.number_of_node_rows * mg.dx - mg.dx)\n",
    "\n",
    "# location of divide or ridge crest -> middle of grid\n",
    "# based on boundary conds.\n",
    "divide_loc = (mg.number_of_node_rows * mg.dx - mg.dx) / 2\n",
    "\n",
    "# half-width of the ridge\n",
    "half_width = (mg.number_of_node_rows * mg.dx - mg.dx) / 2\n",
    "\n",
    "# analytical solution for elevation under linear diffusion at steady state\n",
    "zs = (uplift_rate / (2 * D)) * (np.power(half_width, 2) - np.power(ys - divide_loc, 2))"
   ]
  },
  {
   "cell_type": "markdown",
   "metadata": {},
   "source": [
    "Before we evolve the landscape, let's look at the initial topography. (This is just verifying that it is flat with zero elevation.)"
   ]
  },
  {
   "cell_type": "code",
   "execution_count": null,
   "metadata": {},
   "outputs": [],
   "source": [
    "# Code Block 6\n",
    "\n",
    "figure(1)\n",
    "imshow_grid(mg, \"topographic__elevation\")\n",
    "title(\"initial topography\")\n",
    "figure(2)\n",
    "elev_rast = mg.node_vector_to_raster(mg.at_node[\"topographic__elevation\"])\n",
    "plot(ys_grid, elev_rast[:, 2], \"r-\", label=\"model\")\n",
    "plot(ys, zs, \"k--\", label=\"analytical solution\")\n",
    "ylim((-5, 50))  # may want to change upper limit if D changes\n",
    "xlabel(\"horizontal distance (m)\")\n",
    "ylabel(\"elevation (m)\")\n",
    "legend(loc=\"lower center\")\n",
    "title(\"initial topographic cross section\")"
   ]
  },
  {
   "cell_type": "markdown",
   "metadata": {},
   "source": [
    "Now we are ready to evolve the landscape.\n",
    "\n",
    "Below is the time loop that does all the calculations. "
   ]
  },
  {
   "cell_type": "code",
   "execution_count": null,
   "metadata": {},
   "outputs": [],
   "source": [
    "# Code Block 7\n",
    "\n",
    "for i in range(nt):\n",
    "    mg[\"node\"][\"topographic__elevation\"][mg.core_nodes] += uplift_per_step\n",
    "    nonlin_diffuse.run_one_step(dt)\n",
    "    time_counter += dt\n",
    "\n",
    "    # All landscape evolution is the first two lines of loop.\n",
    "    # Below is simply for plotting the topography halfway through the run\n",
    "    if i == int(nt // 2):\n",
    "        figure(1)\n",
    "        imshow_grid(mg, \"topographic__elevation\")\n",
    "        title(\"topography at time %s, with D = %s, S_c = %s \" % (time_counter, D, Sc))\n",
    "        figure(2)\n",
    "        elev_rast = mg.node_vector_to_raster(mg.at_node[\"topographic__elevation\"])\n",
    "        plot(ys_grid, elev_rast[:, 2], \"k-\", label=\"model\")\n",
    "        plot(ys, zs, \"g--\", label=\"analytical solution - SS, linear diffusion\")\n",
    "        xlabel(\"horizontal distance (m)\")\n",
    "        ylabel(\"elevation (m)\")\n",
    "        legend(loc=\"lower center\")\n",
    "        title(\"topographic__elevation at time %s, D = %s, S_c = %s \" % (time_counter, D, Sc))\n",
    "        max_elev = np.max(elev_rast[:, 2])\n",
    "        print(\"maximum elevation is \", max_elev)"
   ]
  },
  {
   "cell_type": "markdown",
   "metadata": {},
   "source": [
    "Now we plot the final cross-section."
   ]
  },
  {
   "cell_type": "code",
   "execution_count": null,
   "metadata": {},
   "outputs": [],
   "source": [
    "# Code Block 8\n",
    "\n",
    "elev_rast = mg.node_vector_to_raster(mg.at_node[\"topographic__elevation\"])\n",
    "plot(ys_grid, elev_rast[:, 2], \"k-\", label=\"model\")\n",
    "plot(ys, zs, \"g--\", label=\"analytical solution - SS, linear diffusion\")\n",
    "xlabel(\"horizontal distance (m)\")\n",
    "ylabel(\"vertical distance (m)\")\n",
    "legend(loc=\"lower center\")\n",
    "title(\"topographic cross section at time %s, with D = %s\" % (time_counter, D))"
   ]
  },
  {
   "cell_type": "markdown",
   "metadata": {},
   "source": [
    "Now we plot the steepest slope in the downward direction across the landscape.\n",
    "\n",
    "(To calculate the steepest slope at a location, we need to route flow across the landscape.)"
   ]
  },
  {
   "cell_type": "code",
   "execution_count": null,
   "metadata": {},
   "outputs": [],
   "source": [
    "# Code Block 9\n",
    "\n",
    "from landlab.components import FlowAccumulator\n",
    "\n",
    "fr = FlowAccumulator(mg)  # intializing flow routing\n",
    "fr.run_one_step()\n",
    "plot(\n",
    "    mg.node_y[mg.core_nodes],\n",
    "    mg.at_node[\"topographic__steepest_slope\"][mg.core_nodes],\n",
    "    \"k-\",\n",
    ")\n",
    "xlabel(\"horizontal distance (m)\")\n",
    "ylabel(\"topographic slope (m/m)\")\n",
    "title(\"slope of the hillslope at time %s, D = %s, S_c = %s \" % (time_counter, D, Sc))\n",
    "max_slope = np.max(mg.at_node[\"topographic__steepest_slope\"][mg.core_nodes])\n",
    "print(\"maximum slope is \", max_slope)"
   ]
  },
  {
   "cell_type": "markdown",
   "metadata": {},
   "source": [
    "Has the landscape reached steady state yet? How do you know?"
   ]
  },
  {
   "cell_type": "markdown",
   "metadata": {},
   "source": [
    "**What to do and hand in:**\n",
    "\n",
    "This assignment is more \"freeform\" than the last one.\n",
    "\n",
    "1. From your experience with the linear diffusion model, you now know that if diffusivity is fixed, then a hillslope becomes steeper if the uplift/erosion rate is increased or the diffusivity is decreased. Run a few model cases to illustrate the same behavior holds at steady state using the nonlinear diffusion model. Describe the model sensitivity to erosion rate and diffusivity using plots and text. Is the nonlinear model as sensitive to changes in these paramaters as the linear model? Make sure it is clear how you are making your assesment of what it means to be more or less sensitive.\n",
    "2. How does changing $S_c$ impact hillslope form at steady state? Do some model runs to illustrate hillslope sensitivity to $S_c$. Make sure you include plots and text to describe your findings.\n",
    "3. If relief is defined as the difference between maximum and minimum elevation, do hillslopes evolved with the linear or nonlinear model have more relief? Compare hillslopes with the same $D$ value between the two models. Use plots and text to support your answer. (This is a very unconstrained question. I'm just trying to get you thinking about the slopes and relief produced using the different models. You may find that some hillslope forms don't seem realistic. This is a model, and that is OK.)"
   ]
  },
  {
   "cell_type": "code",
   "execution_count": null,
   "metadata": {},
   "outputs": [],
   "source": []
  }
 ],
 "metadata": {
  "anaconda-cloud": {},
  "kernelspec": {
   "display_name": "Python 3",
   "language": "python",
   "name": "python3"
  },
  "language_info": {
   "codemirror_mode": {
    "name": "ipython",
    "version": 3
   },
   "file_extension": ".py",
   "mimetype": "text/x-python",
   "name": "python",
   "nbconvert_exporter": "python",
   "pygments_lexer": "ipython3",
   "version": "3.6.8"
  }
 },
 "nbformat": 4,
 "nbformat_minor": 1
}

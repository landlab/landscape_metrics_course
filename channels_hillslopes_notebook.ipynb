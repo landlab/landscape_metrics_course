{
 "cells": [
  {
   "cell_type": "markdown",
   "metadata": {},
   "source": [
    "<a href=\"http://landlab.github.io\"><img style=\"float: left\" src=\"../../../landlab_header.png\"></a>"
   ]
  },
  {
   "cell_type": "markdown",
   "metadata": {},
   "source": [
    "# Stream power, linear diffusion, channel steepness, and relief \n",
    "This notebook was created by Nicole Gasparini at Tulane University."
   ]
  },
  {
   "cell_type": "markdown",
   "metadata": {},
   "source": [
    "<hr>\n",
    "<small>For tutorials on learning Landlab, click here: <a href=\"https://github.com/landlab/landlab/wiki/Tutorials\">https://github.com/landlab/landlab/wiki/Tutorials</a></small>\n",
    "<hr>"
   ]
  },
  {
   "cell_type": "markdown",
   "metadata": {},
   "source": [
    "**What is this notebook?**\n",
    "\n",
    "This notebook illustrates the evolution of detachment-limited channels in an actively uplifting landscape. The landscape evolves according to the equation:\n",
    "\n",
    "\\begin{equation}\n",
    " \\frac{d z}{d t} = U - K_\\text{sp} A^{m_{sp}} S^{n_{sp}} + \\nabla q_s\n",
    "\\end{equation}\n",
    "\n",
    "Here the first term on the right hand side is rock uplift, the second term is fluvial incision, and the third term in erosion/deposition due to hillslope processes.\n",
    "\n",
    "In the fluvial incision term, $K_{sp}$ is the erodibility coefficient, which is thought to be positively correlated with climate wetness, or storminess (this is hard to quantify) and to be negatively correlated with rock strength (again, rock strength is hard to quantify). $m_{sp}$ and $n_{sp}$ are positive exponents, usually thought to have a ratio, $m_{sp}/n_{sp} \\approx 0.5$. $A$ is drainage area and $S$ is the slope of steepest descent ($-\\frac{dz}{dx}$) where $x$ is horizontal distance (positive in the downslope direction) and $z$ is elevation. (If slope is negative there is no fluvial erosion.) The fluvial erosion term is also known as the stream power equation.\n",
    "\n",
    "The hillslope sediment transport equation here is described using linear diffusion :\n",
    "\\begin{equation}\n",
    "q_s = -D \\nabla z\n",
    "\\end{equation}\n",
    "where ${q}_s$ is the transport rate with dimensions of L$^2$T$^{-1}$;  $D$ is a transport coefficient (or diffusivity) with dimensions of L$^2$T$^{-1}$; and $z$ is elevation. $\\nabla z$ is the gradient in elevation. If distance is increasing downslope, $\\nabla z$ is negative downslope, hence the negative in front of $D$.\n",
    "\n",
    "You should know the term **drainage density** ($Den$) for this exercise.\n",
    "\\begin{equation}\n",
    "Den = \\frac{\\sum l}{A}\n",
    "\\end{equation}\n",
    "\n",
    "Where $l$ is a length of channel, and $\\sum l$ is the length of all channels in the watershed of interest, and $A$ is the drainage area of the watershed of interest. In other words, more length of channels over the same area means a higher drainage density (that should make sense!). \n",
    "\n",
    "To calculate drainage density (which we won't do here), one would need to know where the transition from hillslope to channel happens on a landscape. This is oddly hard. One tool that can be used to determine where channels begin is the slope-area plot. At the smallest drainage area are hillslopes. As drainage area increases on a hillslope (moving down the hillslope), the slope increases. This is seen as a positive trend in a slope-area plot. At some drainage area, the slope starts to decrease. At this **critical drainage area**, where the slope-area plot goes from an increasing, positive trend to a decreasing, negative trend, is where the landscape switches from hillslope to channel. The larger the critical drainage area, the longer the hillslopes, the smaller the drainage density.\n",
    "\n",
    "**What will you do?**\n",
    "\n",
    "In this exercise you will modify the code to get a better understanding of what sets the relief in a watershed. You will be asked to change the diffusivity and fluvial erodibilty to create watersheds with different drainage densities and explore how relief changes.\n",
    "\n",
    "Start at the top by reading each block of text and sequentially running each code block (shift - enter OR got to the _Cell_ pulldown menu at the top and choose _Run Cells_). \n",
    "\n",
    "If you just change one code block and rerun only that code block, only the parts of the code in that code block will be updated. (E.g. if you change parameters but don't reset the code blocks that initialize run time or topography, then these values will not be reset.) "
   ]
  },
  {
   "cell_type": "markdown",
   "metadata": {},
   "source": [
    "**Now on to the code...**\n",
    "\n",
    "First we have to import the parts of Python and Landlab that are needed to run this code. You should not have to change this first code block."
   ]
  },
  {
   "cell_type": "code",
   "execution_count": null,
   "metadata": {},
   "outputs": [],
   "source": [
    "# Code block 1\n",
    "\n",
    "import numpy as np\n",
    "from matplotlib import pyplot as plt\n",
    "\n",
    "from landlab import RasterModelGrid, imshow_grid\n",
    "from landlab.components import (\n",
    "    ChannelProfiler,\n",
    "    ChiFinder,\n",
    "    FlowAccumulator,\n",
    "    SteepnessFinder,\n",
    "    StreamPowerEroder,\n",
    "    LinearDiffuser,\n",
    ")\n",
    "from landlab.io import write_esri_ascii"
   ]
  },
  {
   "cell_type": "markdown",
   "metadata": {},
   "source": [
    "Make a grid and set boundary conditions. "
   ]
  },
  {
   "cell_type": "code",
   "execution_count": null,
   "metadata": {},
   "outputs": [],
   "source": [
    "# Code Block 2\n",
    "\n",
    "number_of_rows = 120  # number of raster cells in vertical direction (y)\n",
    "number_of_columns = 120  # number of raster cells in horizontal direction (x)\n",
    "dxy = 100  # side length of a raster model cell, or resolution [m]\n",
    "\n",
    "# Below is a raster (square cells) grid, with equal width and height\n",
    "mg1 = RasterModelGrid((number_of_rows, number_of_columns), dxy)"
   ]
  },
  {
   "cell_type": "markdown",
   "metadata": {},
   "source": [
    "Here we make the initial grid of elevation of zeros with a very small amount of noise to make a more pleasing network."
   ]
  },
  {
   "cell_type": "code",
   "execution_count": null,
   "metadata": {},
   "outputs": [],
   "source": [
    "# Code Block 3\n",
    "\n",
    "np.random.seed(56)  # seed set so our figures are reproducible\n",
    "mg1_noise = (np.random.rand(mg1.number_of_nodes) / 1000.0\n",
    "             )  # intial noise on elevation gri\n",
    "\n",
    "# set up the elevation on the grid\n",
    "z1 = mg1.add_zeros(\"topographic__elevation\", at=\"node\")\n",
    "z1 += mg1_noise\n",
    "\n",
    "# Set boundary conditions - only the south side of the grid is open.\n",
    "# Boolean parameters are sent to function in order of\n",
    "# east, north, west, south.\n",
    "mg1.set_watershed_boundary_condition(\"topographic__elevation\")"
   ]
  },
  {
   "cell_type": "markdown",
   "metadata": {},
   "source": [
    "Set parameters related to time."
   ]
  },
  {
   "cell_type": "code",
   "execution_count": null,
   "metadata": {},
   "outputs": [],
   "source": [
    "# Code Block 4\n",
    "\n",
    "tmax = 1e6  # time for the model to run [yr] (Original value was 1E6 yr)\n",
    "dt = 1000  # time step [yr] (Original value was 1000 yr)\n",
    "total_time = 0  # amount of time the landscape has evolved [yr]\n",
    "# total_time will increase as you keep running the code.\n",
    "\n",
    "t = np.arange(0, tmax, dt)  # each of the time steps that the code will run"
   ]
  },
  {
   "cell_type": "markdown",
   "metadata": {},
   "source": [
    "Set parameters for incision and intializing all of the process components that do the work. We also initialize tools for quantifying the landscape."
   ]
  },
  {
   "cell_type": "code",
   "execution_count": null,
   "metadata": {},
   "outputs": [],
   "source": [
    "# Code Block 5\n",
    "\n",
    "# Original K_sp value is 1e-5\n",
    "K_sp = 1.0e-5  # units vary depending on m_sp and n_sp\n",
    "m_sp = 0.5  # exponent on drainage area in stream power equation\n",
    "n_sp = 1.0  # exponent on slope in stream power equation\n",
    "\n",
    "frr = FlowAccumulator(mg1, flow_director='FlowDirectorD8')  # intializing flow routing\n",
    "spr = StreamPowerEroder(mg1, K_sp=K_sp, m_sp=m_sp, n_sp=n_sp,\n",
    "                        threshold_sp=0.0)  # initializing stream power incision\n",
    "\n",
    "D = 0.5  # initial value of 0.5 m^2/yr\n",
    "# initialize the linear diffusion component\n",
    "ld = LinearDiffuser(mg1, linear_diffusivity=D, deposit=False)\n",
    "\n",
    "theta = m_sp / n_sp\n",
    "# initialize the component that will calculate channel steepness\n",
    "sf = SteepnessFinder(mg1, reference_concavity=theta, min_drainage_area=1000.0)\n",
    "# initialize the component that will calculate the chi index\n",
    "cf = ChiFinder(mg1,\n",
    "               min_drainage_area=1000.0,\n",
    "               reference_concavity=theta,\n",
    "               use_true_dx=True)"
   ]
  },
  {
   "cell_type": "markdown",
   "metadata": {},
   "source": [
    "Initialize rock uplift rate. This will need to be changed later."
   ]
  },
  {
   "cell_type": "code",
   "execution_count": null,
   "metadata": {},
   "outputs": [],
   "source": [
    "# Code Block 6\n",
    "\n",
    "#  uplift_rate [m/yr] (Original value is 0.0001 m/yr)\n",
    "uplift_rate = np.ones(mg1.number_of_nodes) * 0.0001"
   ]
  },
  {
   "cell_type": "markdown",
   "metadata": {},
   "source": [
    "Now for the code loop. \n",
    "\n",
    "Note that you can rerun Code Block 7 many times, and as long as you don't reset the elevation field (Code Block 3), it will take the already evolved landscape and evolve it even more. If you want to change parameters in other code blocks (e.g. Code Block 5 or 6), you can do that too, and as long as you don't reset the elevation field (Code Block 3) the new parameters will apply on the already evolved topography. "
   ]
  },
  {
   "cell_type": "code",
   "execution_count": null,
   "metadata": {
    "scrolled": true
   },
   "outputs": [],
   "source": [
    "# Code Block 7\n",
    "\n",
    "for ti in t:\n",
    "    z1[mg1.\n",
    "       core_nodes] += uplift_rate[mg1.core_nodes] * dt  # uplift the landscape\n",
    "    ld.run_one_step(dt) # hillslope evolution\n",
    "    frr.run_one_step()  # route flow\n",
    "    spr.run_one_step(dt)  # fluvial incision\n",
    "    total_time += dt  # update time keeper\n",
    "    print(total_time)"
   ]
  },
  {
   "cell_type": "markdown",
   "metadata": {},
   "source": [
    "Plot the topography."
   ]
  },
  {
   "cell_type": "code",
   "execution_count": null,
   "metadata": {},
   "outputs": [],
   "source": [
    "# Code Block 8\n",
    "\n",
    "imshow_grid(mg1,\n",
    "            \"topographic__elevation\",\n",
    "            grid_units=(\"m\", \"m\"),\n",
    "            var_name=\"Elevation (m)\")\n",
    "title_text = f\"$K_{{sp}}$={K_sp}; $D$={D}; $time$={total_time} yr; $dx$={dxy} m\"\n",
    "plt.title(title_text)\n",
    "\n",
    "max_elev = np.max(z1)\n",
    "print(\"Maximum elevation is \", np.max(z1))"
   ]
  },
  {
   "cell_type": "markdown",
   "metadata": {},
   "source": [
    "Plot the slope and area data at each point on the landscape (in log-log space). We will only plot the core nodes because the boundary nodes have slopes that are influenced by the boundary conditions. "
   ]
  },
  {
   "cell_type": "code",
   "execution_count": null,
   "metadata": {
    "scrolled": true
   },
   "outputs": [],
   "source": [
    "# Code Block 9\n",
    "\n",
    "plt.loglog(\n",
    "    mg1.at_node[\"drainage_area\"][mg1.core_nodes],\n",
    "    mg1.at_node[\"topographic__steepest_slope\"][mg1.core_nodes],\n",
    "    \"b.\",\n",
    ")\n",
    "plt.ylabel(\"Topographic slope\")\n",
    "plt.xlabel(\"Drainage area (m^2)\")\n",
    "title_text = f\"$K_{{sp}}$={K_sp}; $D$={D}; $time$={total_time} yr; $dx$={dxy} m\"\n",
    "\n",
    "plt.title(title_text)"
   ]
  },
  {
   "cell_type": "markdown",
   "metadata": {},
   "source": [
    "It is slightly easier to interpret slope-area data when we look at a single channel, rather than the entire landscape. Below we plot the profile and slope-area data for the longest length of channel on the landscape."
   ]
  },
  {
   "cell_type": "code",
   "execution_count": null,
   "metadata": {},
   "outputs": [],
   "source": [
    "# Code Block 10\n",
    "\n",
    "# profile the largest channels, set initially to find the mainstem channel in the three biggest watersheds\n",
    "# you can change the number of watersheds, or choose to plot all the channel segments in the watershed that\n",
    "# have drainage area below the threshold (here we have set the threshold to the area of a grid cell).\n",
    "prf = ChannelProfiler(mg1,\n",
    "                      number_of_watersheds=1,\n",
    "                      main_channel_only=True,\n",
    "                      minimum_channel_threshold=dxy**2)\n",
    "prf.run_one_step()\n",
    "\n",
    "# plot the elevation as a function of distance upstream\n",
    "plt.figure(1)\n",
    "title_text = f\"$K_{{sp}}$={K_sp}; $D$={D}; $time$={total_time} yr; $dx$={dxy} m\"\n",
    "prf.plot_profiles(xlabel='distance upstream (m)',\n",
    "                  ylabel='elevation (m)',\n",
    "                  title=title_text)\n",
    "\n",
    "# plot the location of the channels in map view\n",
    "plt.figure(2)\n",
    "prf.plot_profiles_in_map_view()\n",
    "\n",
    "# slope-area data in just the profiled channels\n",
    "plt.figure(3)\n",
    "for i, outlet_id in enumerate(prf.data_structure):\n",
    "    for j, segment_id in enumerate(prf.data_structure[outlet_id]):\n",
    "        if j == 0:\n",
    "            label = \"channel {i}\".format(i=i + 1)\n",
    "        else:\n",
    "            label = '_nolegend_'\n",
    "        segment = prf.data_structure[outlet_id][segment_id]\n",
    "        profile_ids = segment[\"ids\"]\n",
    "        color = segment[\"color\"]\n",
    "        plt.loglog(\n",
    "            mg1.at_node[\"drainage_area\"][profile_ids],\n",
    "            mg1.at_node[\"topographic__steepest_slope\"][profile_ids],\n",
    "            '.',\n",
    "            color=color,\n",
    "            label=label,\n",
    "        )\n",
    "\n",
    "plt.legend(loc=\"lower left\")\n",
    "plt.xlabel(\"drainage area (m^2)\")\n",
    "plt.ylabel(\"topographic slope [m/m]\")\n",
    "title_text = f\"$K_{{sp}}$={K_sp}; $D$={D}; $time$={total_time} yr; $dx$={dxy} m\"\n",
    "plt.title(title_text)"
   ]
  },
  {
   "cell_type": "markdown",
   "metadata": {},
   "source": [
    "The chi index is a useful way to quantitatively interpret fluvial channels. Below we plot the chi index in the three largest channels and also a chi map across the entire landscape. "
   ]
  },
  {
   "cell_type": "code",
   "execution_count": null,
   "metadata": {},
   "outputs": [],
   "source": [
    "# # Code Block 11\n",
    "\n",
    "# # calculate the chi index\n",
    "# cf.calculate_chi()\n",
    "\n",
    "# # chi-elevation plots in the profiled channels\n",
    "# plt.figure(4)\n",
    "\n",
    "# for i, outlet_id in enumerate(prf.data_structure):\n",
    "#     for j, segment_id in enumerate(prf.data_structure[outlet_id]):\n",
    "#         if j == 0:\n",
    "#             label = \"channel {i}\".format(i=i + 1)\n",
    "#         else:\n",
    "#             label = '_nolegend_'\n",
    "#         segment = prf.data_structure[outlet_id][segment_id]\n",
    "#         profile_ids = segment[\"ids\"]\n",
    "#         color = segment[\"color\"]\n",
    "#         plt.plot(\n",
    "#             mg1.at_node[\"channel__chi_index\"][profile_ids],\n",
    "#             mg1.at_node[\"topographic__elevation\"][profile_ids],\n",
    "#             color=color,\n",
    "#             label=label,\n",
    "#         )\n",
    "\n",
    "# plt.xlabel(\"chi index (m)\")\n",
    "# plt.ylabel(\"elevation (m)\")\n",
    "# plt.legend(loc=\"lower right\")\n",
    "# title_text = f\"$K_{{sp}}$={K_sp}; $time$={total_time} yr; $dx$={dxy} m; concavity={theta}\"\n",
    "# plt.title(title_text)\n",
    "\n",
    "# # chi map\n",
    "# plt.figure(5)\n",
    "# imshow_grid(\n",
    "#     mg1,\n",
    "#     \"channel__chi_index\",\n",
    "#     grid_units=(\"m\", \"m\"),\n",
    "#     var_name=\"Chi index (m)\",\n",
    "#     cmap=\"jet\",\n",
    "# )\n",
    "# title_text = f\"$K_{{sp}}$={K_sp}; $time$={total_time} yr; $dx$={dxy} m; concavity={theta}\"\n",
    "# plt.title(title_text)"
   ]
  },
  {
   "cell_type": "markdown",
   "metadata": {},
   "source": [
    "The channel steepness index is another useful index to quantify fluvial channels. Below we plot the steepness index in the same three largest channels, and also plot steepness index across the grid."
   ]
  },
  {
   "cell_type": "code",
   "execution_count": null,
   "metadata": {},
   "outputs": [],
   "source": [
    "# Code Block 12\n",
    "\n",
    "# calculate channel steepness\n",
    "sf.calculate_steepnesses()\n",
    "\n",
    "# plots of steepnes vs. distance upstream in the profiled channels\n",
    "plt.figure(6)\n",
    "\n",
    "for i, outlet_id in enumerate(prf.data_structure):\n",
    "    for j, segment_id in enumerate(prf.data_structure[outlet_id]):\n",
    "        if j == 0:\n",
    "            label = \"channel {i}\".format(i=i + 1)\n",
    "        else:\n",
    "            label = '_nolegend_'\n",
    "        segment = prf.data_structure[outlet_id][segment_id]\n",
    "        profile_ids = segment[\"ids\"]\n",
    "        distance_upstream = segment[\"distances\"]\n",
    "        color = segment[\"color\"]\n",
    "        plt.plot(\n",
    "            distance_upstream,\n",
    "            mg1.at_node[\"channel__steepness_index\"][profile_ids],\n",
    "            'x',\n",
    "            color=color,\n",
    "            label=label,\n",
    "        )\n",
    "\n",
    "plt.xlabel(\"distance upstream (m)\")\n",
    "plt.ylabel(\"steepness index\")\n",
    "plt.legend(loc=\"upper left\")\n",
    "plt.title(\n",
    "    f\"$K_{{sp}}$={K_sp}; $D$={D}; $time$={total_time} yr; $dx$={dxy} m; concavity={theta}\"\n",
    ")\n",
    "\n",
    "# channel steepness map\n",
    "plt.figure(7)\n",
    "imshow_grid(\n",
    "    mg1,\n",
    "    \"channel__steepness_index\",\n",
    "    grid_units=(\"m\", \"m\"),\n",
    "    var_name=\"Steepness index \",\n",
    "    cmap=\"jet\",\n",
    ")\n",
    "title_text = (\"$K_{sp}$=\" + str(K_sp) + \"; $time$=\" + str(total_time) +\n",
    "              \"yr; $dx$=\" + str(dxy) + \"m\" + \"; concavity=\" + str(theta))\n",
    "plt.title(\n",
    "    f\"$K_{{sp}}$={K_sp}; $D$={D}; $time$={total_time} yr; $dx$={dxy} m; concavity={theta}\"\n",
    ")"
   ]
  },
  {
   "cell_type": "markdown",
   "metadata": {},
   "source": [
    "If you have a grid that you want to export, uncomment and edit the appropriate lines below and run the code block."
   ]
  },
  {
   "cell_type": "code",
   "execution_count": null,
   "metadata": {},
   "outputs": [],
   "source": [
    "# Code Block 13\n",
    "\n",
    "## Below has the name of the file that data will be written to.\n",
    "## You need to change the name of the file every time that you want\n",
    "## to write data, otherwise you will get an error.\n",
    "## This will write to the directory that you are running the code in.\n",
    "# write_file_name = 'data_file.txt'\n",
    "## Below is writing elevation data in the ESRI ascii format so that it can\n",
    "## easily be read into Arc GIS or back into Landlab.\n",
    "# write_esri_ascii(write_file_name, mg1, 'topographic__elevation')"
   ]
  },
  {
   "cell_type": "code",
   "execution_count": null,
   "metadata": {},
   "outputs": [],
   "source": []
  },
  {
   "cell_type": "markdown",
   "metadata": {},
   "source": [
    "After running every code block once, has the landscape reached steady state? Answer: NO! How do you know? After you think about this, you are ready to complete this project.\n",
    "\n",
    "Answer the following questions using the code above and below. All answers and supporting figures (produced using the code) should be embedded in a powerpoint that you hand in. Code Blocks 8-12 produce different figures that you may find useful. You can use any or all of these different figures to help you with the questions below. (Download or screenshoot the figures.) \n",
    "\n",
    "Please complete the following tasks. Make sure your write in full sentences and proofread the document that you hand in.\n",
    "\n",
    "1. Using the parameters provided in the initial notebook, run the landscape to steady state. (Note that you can keep running the main evolution loop - Code Block 7 - and the different plotting blocks without running the code blocks above them.) [These landscapes may not reach a perfect steady state. Close is fine.] When the landscape reaches steady state, record the channel steepness, $k_{sn}$ (only applies for the channelized part of the landscape) and total relief (in this case the minimum elevation is zero, so the total relief is just the maximum elevation). Also note the approximate critical drainage area. (See the description at the top of this notebook if you don't know that term.) Save some illustrative plots. This example has a relatively small critical drainage area/large drainage density. (10 pts)\n",
    "\n",
    "2. Rerun the notebook with a new diffusivity value, but keep all other parameters the same (so do not change the fluvial erodibility or rock uplift value). You should find a scenario with a critical drainage area higher than the initial value, but less than 1e6 m$^2$. Run to steady state, and record the critical drainage area, channel steepness index, and total relief. Make sure you also record the diffusivity value used. Save some illustrative plots. (10 pts)\n",
    "\n",
    "3. Repeat step 2. So same everything except use a third, different diffusivity value. This example should have a different critical drainage from the previous two landscapes, and the critical drainage area should be less than 1e6 m$^2$. (10 pts)\n",
    "\n",
    "3. Now repeat steps 1, 2, and 3, two more times. I want you to choose two different fluvial erodibility values (both should be smaller than the original value of $K_{sp} = 1E-5$, i.e. they should produce larger $k_{sn}$ values). For each $K_{sp}$ value, you should produce three landscapes with three different diffusivity values. Try to keep all slope values (on hillslopes and channels) less than 1 m/m. Try to keep the critical drainage area less than 1e6 m$^2$. Record critical drainage area, channel steepness index, and total relief for all the landscapes. (20 pts)\n",
    "\n",
    "4. You should have produced a total of 9 steady-state landscapes, using three different fluvial erodibility values, and at least three different diffusivity values. In all cases, the uplift rate remained the same, so the erosion rate remained the same. What trends do you notice about controls on relief and channel steepness index? Is relief related to critical drainage area? Is it related to channel steepness index? Can you summarize (in 5 sentences or less) some things you have learned about rivers and fluvial erodbility, hillslopes and diffusivity, and topographic trends? (15 pts)\n",
    "\n",
    "5. Thought question ... If you had a larger watershed, do you think that would impact any of the trends (or lack of trends) that you observed? Please explain in 5 sentences or less. (5 pts)"
   ]
  },
  {
   "cell_type": "code",
   "execution_count": null,
   "metadata": {},
   "outputs": [],
   "source": []
  }
 ],
 "metadata": {
  "anaconda-cloud": {},
  "kernelspec": {
   "display_name": "Python 3",
   "language": "python",
   "name": "python3"
  },
  "language_info": {
   "codemirror_mode": {
    "name": "ipython",
    "version": 3
   },
   "file_extension": ".py",
   "mimetype": "text/x-python",
   "name": "python",
   "nbconvert_exporter": "python",
   "pygments_lexer": "ipython3",
   "version": "3.6.10"
  }
 },
 "nbformat": 4,
 "nbformat_minor": 1
}
